{
 "cells": [
  {
   "cell_type": "markdown",
   "metadata": {},
   "source": [
    "# Data Exploration\n",
    "\n",
    "We recorded some data and want to check out if it's usable for data analysis.\n",
    "\n",
    "Let's start with importing some plotting functions (don't care about the warning ... we should use something else, but this is just easier, for the time being)."
   ]
  },
  {
   "cell_type": "code",
   "execution_count": null,
   "metadata": {},
   "outputs": [],
   "source": [
    "import pandas as pd\n",
    "import numpy as np\n",
    "import matplotlib.pyplot as plt\n",
    "%pylab inline\n",
    "\n",
    "#use a nicer plotting style\n",
    "plt.style.use(u'seaborn-talk')\n",
    "print(plt.style.available)"
   ]
  },
  {
   "cell_type": "markdown",
   "metadata": {},
   "source": [
    "## Walking versus not Walking\n",
    "reading in accelerometer data from the file"
   ]
  },
  {
   "cell_type": "code",
   "execution_count": null,
   "metadata": {},
   "outputs": [],
   "source": [
    "data = pd.read_csv('./data/2017-08-08 02.37.46 +0000_Accel.txt',delimiter='\\t',skiprows=17,names=['time','skipped','ax','ay','az','label'])\n"
   ]
  },
  {
   "cell_type": "code",
   "execution_count": null,
   "metadata": {},
   "outputs": [],
   "source": [
    "data[['ax','label']].plot()\n"
   ]
  },
  {
   "cell_type": "code",
   "execution_count": 4,
   "metadata": {},
   "outputs": [],
   "source": [
    "accel_walking = data[data['label']==1][['ax','ay','az']]\n",
    "accel_other = data[data['label']==0][['ax','ay','az']]\n"
   ]
  },
  {
   "cell_type": "code",
   "execution_count": null,
   "metadata": {},
   "outputs": [],
   "source": [
    "#calculating a sliding window ...\n",
    "mean_walking = accel_walking.rolling(200).apply(var).dropna()\n",
    "mean_other = accel_other.rolling(200).apply(var).dropna()\n",
    "\n"
   ]
  },
  {
   "cell_type": "code",
   "execution_count": null,
   "metadata": {},
   "outputs": [],
   "source": [
    "plot(mean_walking['ax'], mean_walking['ay'], '*')\n",
    "plot(mean_other['ax'], mean_other['ay'],'*r')\n"
   ]
  },
  {
   "cell_type": "markdown",
   "metadata": {},
   "source": [
    "## Motion Data\n",
    "\n",
    "The assembly.dat file contains a recording done from a assembly session.\n",
    "\n",
    "A person was doing the following activities: \n",
    "\n",
    "* hammering in nails (label 1)\n",
    "* screwdring (label 2)\n",
    "* sandpapering (label 3)\n",
    "* sawing (label 4)\n",
    "\n",
    "Label 0 is for doing none of the activities above. The sensor is attached to the subjects right wrist (x axis pointing towards the fingers). \n",
    "The sensor was sampled with 100 Hz, it's raw sensor data (not calibrated). The data structure of the file is shown in the header of the file.\n",
    "\n",
    "## Import the data\n",
    "\n",
    "The file uses tabs as separators and we need to skip 11 rows (the description of the content). \n",
    "Also we need to give the desciription for each column in the names variable."
   ]
  },
  {
   "cell_type": "code",
   "execution_count": 7,
   "metadata": {},
   "outputs": [],
   "source": [
    "data = pd.read_csv('./data/assembly.dat',delimiter='\\t',skiprows=11,names=['s','usec','ax','ay','az','gx','gy','gz','mx','my','mz','label'])"
   ]
  },
  {
   "cell_type": "code",
   "execution_count": null,
   "metadata": {},
   "outputs": [],
   "source": [
    "#to get an overview of the data you can use describe in pandas\n",
    "data[['ax','ay','az']].describe()"
   ]
  },
  {
   "cell_type": "code",
   "execution_count": null,
   "metadata": {},
   "outputs": [],
   "source": [
    "data[['gx','gy','gz']].plot()"
   ]
  },
  {
   "cell_type": "code",
   "execution_count": null,
   "metadata": {},
   "outputs": [],
   "source": [
    "data[['ax','ay','az']].plot()"
   ]
  },
  {
   "cell_type": "markdown",
   "metadata": {},
   "source": [
    "# Feature Caluclation and Selection\n",
    "In the next step we will take the gyro data and calculate some features on the them."
   ]
  },
  {
   "cell_type": "code",
   "execution_count": null,
   "metadata": {},
   "outputs": [],
   "source": [
    "gyro_hammer = data[data['label']==1][['gx','gy','gz']]\n",
    "gyro_screw = data[data['label']==2][['gx','gy','gz']]\n",
    "gyro_sand = data[data['label']==3][['gx','gy','gz']]\n",
    "gyro_saw = data[data['label']==4][['gx','gy','gz']]"
   ]
  },
  {
   "cell_type": "code",
   "execution_count": null,
   "metadata": {},
   "outputs": [],
   "source": [
    "gyro_hammer.plot()\n",
    "gyro_screw.plot()\n",
    "gyro_sand.plot()\n",
    "gyro_saw.plot()"
   ]
  },
  {
   "cell_type": "code",
   "execution_count": null,
   "metadata": {},
   "outputs": [],
   "source": [
    "from numpy import mean\n",
    "\n",
    "method = mean\n",
    "wsize = 25\n",
    "\n",
    "feat1 = gyro_screw.rolling(wsize).apply(mean).dropna()\n",
    "feat2 = gyro_hammer.rolling(wsize).apply(mean).dropna()\n",
    "feat3 = gyro_sand.rolling(wsize).apply(mean).dropna()\n",
    "feat4 = gyro_saw.rolling(wsize).apply(mean).dropna()\n"
   ]
  },
  {
   "cell_type": "code",
   "execution_count": null,
   "metadata": {},
   "outputs": [],
   "source": [
    "import matplotlib.pyplot as plt\n",
    "from matplotlib.pyplot import scatter\n",
    "scatter(feat1['gz'], feat1['gy'])\n",
    "scatter(feat2['gz'], feat2['gy'],color='red')\n",
    "scatter(feat3['gz'], feat3['gy'],color='green')\n",
    "scatter(feat4['gz'], feat4['gy'],color='yellow')"
   ]
  },
  {
   "cell_type": "markdown",
   "metadata": {},
   "source": [
    "# Classification\n",
    "In the following we will try how good our features are to automatically classify the different activities."
   ]
  },
  {
   "cell_type": "code",
   "execution_count": 15,
   "metadata": {},
   "outputs": [],
   "source": [
    "#don't look here ... I split the data in test and training set\n",
    "#bad code :)\n",
    "\n",
    "l_1 = len(feat1)\n",
    "l_2 = len(feat2)\n",
    "l_3 = len(feat3)\n",
    "l_4 = len(feat4)\n",
    "\n",
    "#X = feat1.append(feat2).append(feat3).append(feat4)\n",
    "#Y = [1.0] * l_1 + [2.0]* l_2 + [3] * l_3 + [4] * l_4\n",
    "\n",
    "X = feat1[0:int(l_1/2)].append(feat2[0:int(l_2/2)]).append(feat3[0:int(l_3/2)]).append(feat4[0:int(l_4/2)])\n",
    "Y = [1]*int(l_1/2) + [2]*int(l_2/2)+[3]* int(l_3/2) + [4]* int(l_4/2)\n",
    "\n",
    "T = feat1[int(l_1/2):l_1].append(feat2[int(l_2/2):l_2]).append(feat3[int(l_3/2):l_3]).append(feat4[int(l_4/2):l_4])\n",
    "t_gg = [1]*len(feat1[int(l_1/2):l_1]) + [2]*len(feat2[int(l_2/2):l_2]) + [3]*len(feat3[int(l_3/2):l_3]) + [4]*len(feat1[int(l_4/2):l_4])"
   ]
  },
  {
   "cell_type": "code",
   "execution_count": null,
   "metadata": {},
   "outputs": [],
   "source": [
    "from sklearn.neighbors import KNeighborsClassifier\n",
    "from sklearn.tree import DecisionTreeClassifier\n",
    "\n",
    "neigh = KNeighborsClassifier(n_neighbors=3)\n",
    "dt = DecisionTreeClassifier()\n",
    "\n",
    "dt.fit(X,Y)\n",
    "res = dt.predict(T)\n",
    "\n",
    "import pylab\n",
    "\n",
    "pylab.plot(res+0.2, 'r.')\n",
    "pylab.plot(t_gg, 'b.')\n",
    "\n",
    "\n",
    "print(dt.score(T, t_gg))\n",
    "\n",
    "\n"
   ]
  },
  {
   "cell_type": "code",
   "execution_count": null,
   "metadata": {},
   "outputs": [],
   "source": []
  },
  {
   "cell_type": "code",
   "execution_count": null,
   "metadata": {},
   "outputs": [],
   "source": []
  },
  {
   "cell_type": "code",
   "execution_count": null,
   "metadata": {},
   "outputs": [],
   "source": []
  }
 ],
 "metadata": {
  "kernelspec": {
   "display_name": "Python 3",
   "language": "python",
   "name": "python3"
  },
  "language_info": {
   "codemirror_mode": {
    "name": "ipython",
    "version": 3
   },
   "file_extension": ".py",
   "mimetype": "text/x-python",
   "name": "python",
   "nbconvert_exporter": "python",
   "pygments_lexer": "ipython3",
   "version": "3.7.0"
  }
 },
 "nbformat": 4,
 "nbformat_minor": 1
}
